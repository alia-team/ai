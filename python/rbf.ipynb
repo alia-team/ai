{
 "cells": [
  {
   "metadata": {},
   "cell_type": "markdown",
   "source": "# RBF Test Cases",
   "id": "fd9796fbe93c028"
  },
  {
   "cell_type": "code",
   "id": "5d8f8f54b73ddef6",
   "metadata": {
    "collapsed": true
   },
   "source": [
    "from rbf import *\n",
    "from mpl_toolkits.mplot3d import Axes3D\n",
    "import numpy as np\n",
    "import matplotlib.pyplot as plt\n",
    "import random"
   ],
   "outputs": [],
   "execution_count": null
  },
  {
   "metadata": {},
   "cell_type": "markdown",
   "source": "## Classification",
   "id": "f4ae759f79be1be5"
  },
  {
   "metadata": {},
   "cell_type": "markdown",
   "source": "### Linear Simple",
   "id": "9156292dbe74185"
  },
  {
   "metadata": {},
   "cell_type": "code",
   "source": [
    "training_dataset = np.array([\n",
    "    [1.0, 1.0],\n",
    "    [2.0, 3.0],\n",
    "    [3.0, 3.0]\n",
    "])\n",
    "labels = np.array([\n",
    "    [1.0],\n",
    "    [-1.0],\n",
    "    [-1.0]\n",
    "])\n",
    "\n",
    "plt.scatter(training_dataset[0, 0], training_dataset[0, 1], color='blue')\n",
    "plt.scatter(training_dataset[1:3, 0], training_dataset[1:3, 1], color='red')\n",
    "plt.show()\n",
    "plt.clf()"
   ],
   "id": "8a47becf3ba643e2",
   "outputs": [],
   "execution_count": null
  },
  {
   "metadata": {},
   "cell_type": "code",
   "source": [
    "hidden_layer_neurons_count: int = len(training_dataset)\n",
    "neurons_per_layer: list[int] = [2, hidden_layer_neurons_count, 1]\n",
    "activation: str = \"sign\"\n",
    "model: RBF = RBF(\n",
    "    neurons_per_layer,\n",
    "    activation,\n",
    "    training_dataset,\n",
    "    labels\n",
    ")"
   ],
   "id": "c12b11de1ebb46c6",
   "outputs": [],
   "execution_count": null
  },
  {
   "metadata": {},
   "cell_type": "code",
   "source": [
    "gamma: float = 0.1\n",
    "max_iterations: int = 1000\n",
    "model.fit(gamma, max_iterations)"
   ],
   "id": "ac2095e1b2f5345",
   "outputs": [],
   "execution_count": null
  },
  {
   "metadata": {},
   "cell_type": "code",
   "source": [
    "plt.scatter([p[0] for p in training_dataset], [p[1] for p in training_dataset], c=[l[0] for l in labels])\n",
    "x = np.linspace(0, 4, 300)\n",
    "y = np.linspace(0, 4, 300)\n",
    "X, Y = np.meshgrid(x, y)\n",
    "Z = np.array([[1 if model.predict([x, y])[0]>0 else -1 for x in x] for y in y])\n",
    "plt.contourf(X, Y, Z, alpha=0.5)\n",
    "plt.title('Linear Simple')\n",
    "plt.show()\n",
    "plt.clf()"
   ],
   "id": "aa0d610f1410257d",
   "outputs": [],
   "execution_count": null
  },
  {
   "metadata": {},
   "cell_type": "markdown",
   "source": "### Linear Multiple",
   "id": "69f3dae85646dea3"
  },
  {
   "metadata": {},
   "cell_type": "code",
   "source": [
    "training_dataset = np.concatenate([\n",
    "    np.random.random((50, 2)) * 0.9 + np.array([1, 1]),\n",
    "    np.random.random((50, 2)) * 0.9 + np.array([2, 2])\n",
    "])\n",
    "labels = np.concatenate(\n",
    "    [np.ones((50, 1)), np.ones((50, 1)) * -1.0]\n",
    ")\n",
    "\n",
    "plt.scatter(training_dataset[0:50, 0], training_dataset[0:50, 1], color='blue')\n",
    "plt.scatter(training_dataset[50:100, 0], training_dataset[50:100, 1], color='red')\n",
    "plt.show()\n",
    "plt.clf()"
   ],
   "id": "c4e85f21aa12e694",
   "outputs": [],
   "execution_count": null
  },
  {
   "metadata": {},
   "cell_type": "code",
   "source": [
    "hidden_layer_neurons_count: int = round(len(training_dataset) / 4)\n",
    "neurons_per_layer: list[int] = [2, hidden_layer_neurons_count, 1]\n",
    "activation: str = \"sign\"\n",
    "model: RBF = RBF(\n",
    "    neurons_per_layer,\n",
    "    activation,\n",
    "    training_dataset,\n",
    "    labels\n",
    ")"
   ],
   "id": "df48037aa65b09e2",
   "outputs": [],
   "execution_count": null
  },
  {
   "metadata": {},
   "cell_type": "code",
   "source": [
    "gamma: float = 0.1\n",
    "max_iterations: int = 10\n",
    "model.fit(gamma, max_iterations)"
   ],
   "id": "40a01390770d582",
   "outputs": [],
   "execution_count": null
  },
  {
   "metadata": {},
   "cell_type": "code",
   "source": [
    "plt.scatter([p[0] for p in training_dataset], [p[1] for p in training_dataset], c=[l[0] for l in labels])\n",
    "x = np.linspace(0, 4, 300)\n",
    "y = np.linspace(0, 4, 300)\n",
    "X, Y = np.meshgrid(x, y)\n",
    "Z = np.array([[1 if model.predict([x, y])[0]>0 else -1 for x in x] for y in y])\n",
    "plt.contourf(X, Y, Z, alpha=0.5)\n",
    "plt.title('Linear Multiple')\n",
    "plt.show()\n",
    "plt.clf()"
   ],
   "id": "762f52344eed1140",
   "outputs": [],
   "execution_count": null
  },
  {
   "metadata": {},
   "cell_type": "markdown",
   "source": "### XOR",
   "id": "d3fa32c081e34409"
  },
  {
   "metadata": {},
   "cell_type": "code",
   "source": [
    "training_dataset = np.array([[1.0, 0.0], [0.0, 1.0], [0.0, 0.0], [1.0, 1.0]])\n",
    "labels = np.array([[1.0], [1.0], [-1.0], [-1.0]])\n",
    "\n",
    "plt.scatter(training_dataset[0:2, 0], training_dataset[0:2, 1], color='blue')\n",
    "plt.scatter(training_dataset[2:4, 0], training_dataset[2:4, 1], color='red')\n",
    "plt.show()\n",
    "plt.clf()"
   ],
   "id": "ec8a1070e028d7d4",
   "outputs": [],
   "execution_count": null
  },
  {
   "metadata": {},
   "cell_type": "code",
   "source": [
    "hidden_layer_neurons_count: int = len(training_dataset)\n",
    "neurons_per_layer: list[int] = [2, hidden_layer_neurons_count, 1]\n",
    "activation: str = \"sign\"\n",
    "model: RBF = RBF(\n",
    "    neurons_per_layer,\n",
    "    activation,\n",
    "    training_dataset,\n",
    "    labels\n",
    ")"
   ],
   "id": "8a34ca63d4e52e50",
   "outputs": [],
   "execution_count": null
  },
  {
   "metadata": {},
   "cell_type": "code",
   "source": [
    "gamma: float = 0.1\n",
    "max_iterations: int = 1000\n",
    "model.fit(gamma, max_iterations)"
   ],
   "id": "3d5bc193c0a3f65",
   "outputs": [],
   "execution_count": null
  },
  {
   "metadata": {},
   "cell_type": "code",
   "source": [
    "plt.scatter([p[0] for p in training_dataset], [p[1] for p in training_dataset], c=[l[0] for l in labels])\n",
    "x = np.linspace(0, 1, 300)\n",
    "y = np.linspace(0, 1, 300)\n",
    "X, Y = np.meshgrid(x, y)\n",
    "Z = np.array([[1 if model.predict([x, y])[0]>0 else -1 for x in x] for y in y])\n",
    "plt.contourf(X, Y, Z, alpha=0.5)\n",
    "plt.title('XOR')\n",
    "plt.show()\n",
    "plt.clf()"
   ],
   "id": "ee67f7cd311d1d25",
   "outputs": [],
   "execution_count": null
  },
  {
   "metadata": {},
   "cell_type": "markdown",
   "source": "### Cross",
   "id": "df855c8d05d58b78"
  },
  {
   "metadata": {},
   "cell_type": "code",
   "source": [
    "training_dataset = np.random.random((500, 2)) * 2.0 - 1.0\n",
    "labels = np.array([\n",
    "    [1.0] if abs(p[0]) <= 0.3 or abs(p[1]) <= 0.3 else [-1.0]\n",
    "    for p in training_dataset\n",
    "])\n",
    "\n",
    "plt.scatter(\n",
    "    np.array(list(map(\n",
    "        lambda elt: elt[1],\n",
    "        filter(lambda c: labels[c[0]] == 1.0, enumerate(training_dataset))\n",
    "    )))[:, 0], \n",
    "    np.array(list(map(\n",
    "        lambda elt: elt[1], \n",
    "        filter(lambda c: labels[c[0]] == 1.0, enumerate(training_dataset))\n",
    "    )))[:, 1],\n",
    "    color='blue'\n",
    ")\n",
    "plt.scatter(\n",
    "    np.array(list(map(\n",
    "        lambda elt: elt[1],\n",
    "        filter(lambda c: labels[c[0]] == -1.0, enumerate(training_dataset))\n",
    "    )))[:, 0],\n",
    "    np.array(list(map(\n",
    "        lambda elt: elt[1],\n",
    "        filter(lambda c: labels[c[0]] == -1.0, enumerate(training_dataset))\n",
    "    )))[:, 1],\n",
    "    color='red'\n",
    ")\n",
    "plt.show()\n",
    "plt.clf()"
   ],
   "id": "cb48aaa8bb604139",
   "outputs": [],
   "execution_count": null
  },
  {
   "metadata": {},
   "cell_type": "code",
   "source": [
    "hidden_layer_neurons_count: int = round(len(training_dataset) / 7)\n",
    "neurons_per_layer: list[int] = [2, hidden_layer_neurons_count, 1]\n",
    "activation: str = \"sign\"\n",
    "model: RBF = RBF(\n",
    "    neurons_per_layer,\n",
    "    activation,\n",
    "    training_dataset,\n",
    "    labels\n",
    ")"
   ],
   "id": "a4c719b0798edfa",
   "outputs": [],
   "execution_count": null
  },
  {
   "metadata": {},
   "cell_type": "code",
   "source": [
    "gamma: float = 0.0001\n",
    "max_iterations: int = 100\n",
    "model.fit(gamma, max_iterations)"
   ],
   "id": "e48f842127358227",
   "outputs": [],
   "execution_count": null
  },
  {
   "metadata": {},
   "cell_type": "code",
   "source": [
    "plt.scatter([p[0] for p in training_dataset], [p[1] for p in training_dataset], c=[l[0] for l in labels])\n",
    "x = np.linspace(-1, 1, 300)\n",
    "y = np.linspace(-1, 1, 300)\n",
    "X, Y = np.meshgrid(x, y)\n",
    "Z = np.array([[1 if model.predict([x, y])[0]>0 else -1 for x in x] for y in y])\n",
    "plt.contourf(X, Y, Z, alpha=0.5)\n",
    "plt.title('Cross')\n",
    "plt.show()\n",
    "plt.clf()"
   ],
   "id": "6efb0e7a5146be85",
   "outputs": [],
   "execution_count": null
  },
  {
   "metadata": {},
   "cell_type": "markdown",
   "source": "### Multi Linear 3 Classes",
   "id": "18b9a17935be1d04"
  },
  {
   "metadata": {},
   "cell_type": "code",
   "source": [
    "training_dataset = np.random.random((500, 2)) * 2.0 - 1.0\n",
    "labels = np.array([\n",
    "    [1.0, 0.0, 0.0] if -p[0] - p[1] - 0.5 > 0 > p[1] and p[0] - p[1] - 0.5 < 0\n",
    "    else [0.0, 1.0, 0.0] if -p[0] - p[1] - 0.5 < 0 < p[1] and p[0] - p[1] - 0.5 < 0\n",
    "    else [0.0, 0.0, 1.0] if -p[0] - p[1] - 0.5 < 0 < p[0] - p[1] - 0.5 and p[1] < 0\n",
    "    else [0.0, 0.0, 0.0] for p in training_dataset\n",
    "])\n",
    "training_dataset = training_dataset[[not np.all(arr == [0, 0, 0]) for arr in labels]]\n",
    "labels = labels[[not np.all(arr == [0, 0, 0]) for arr in labels]]\n",
    "\n",
    "plt.scatter(\n",
    "    np.array(list(map(\n",
    "        lambda elt: elt[1],\n",
    "        filter(lambda c: labels[c[0]][0] == 1, enumerate(training_dataset))\n",
    "    )))[:, 0],\n",
    "    np.array(list(map(\n",
    "        lambda elt: elt[1],\n",
    "        filter(lambda c: labels[c[0]][0] == 1, enumerate(training_dataset))\n",
    "    )))[:, 1], \n",
    "    color='blue'\n",
    ")\n",
    "plt.scatter(\n",
    "    np.array(list(map(\n",
    "        lambda elt: elt[1],\n",
    "        filter(lambda c: labels[c[0]][1] == 1, enumerate(training_dataset))\n",
    "    )))[:, 0],\n",
    "    np.array(list(map(\n",
    "        lambda elt: elt[1],\n",
    "        filter(lambda c: labels[c[0]][1] == 1, enumerate(training_dataset))\n",
    "    )))[:, 1],\n",
    "    color='red'\n",
    ")\n",
    "plt.scatter(\n",
    "    np.array(list(map(\n",
    "        lambda elt: elt[1],\n",
    "        filter(lambda c: labels[c[0]][2] == 1, enumerate(training_dataset))\n",
    "    )))[:, 0],\n",
    "    np.array(list(map(\n",
    "        lambda elt: elt[1],\n",
    "        filter(lambda c: labels[c[0]][2] == 1, enumerate(training_dataset))\n",
    "    )))[:, 1],\n",
    "    color='green'\n",
    ")\n",
    "plt.show()\n",
    "plt.clf()"
   ],
   "id": "1552ec856ff8b180",
   "outputs": [],
   "execution_count": null
  },
  {
   "metadata": {},
   "cell_type": "code",
   "source": [
    "hidden_layer_neurons_count: int = round(len(training_dataset) / 10)\n",
    "neurons_per_layer: list[int] = [2, hidden_layer_neurons_count, 3]\n",
    "activation: str = \"logistic\"\n",
    "model: RBF = RBF(\n",
    "    neurons_per_layer,\n",
    "    activation,\n",
    "    training_dataset,\n",
    "    labels\n",
    ")"
   ],
   "id": "cf301e3145722c3d",
   "outputs": [],
   "execution_count": null
  },
  {
   "metadata": {},
   "cell_type": "code",
   "source": [
    "gamma: float = 0.1\n",
    "max_iterations: int = 1000\n",
    "model.fit(gamma, max_iterations)"
   ],
   "id": "9ceda47ea06ed83e",
   "outputs": [],
   "execution_count": null
  },
  {
   "metadata": {},
   "cell_type": "code",
   "source": [
    "inputs = [\n",
    "    training_dataset[random.randint(0, len(training_dataset) - 1)]\n",
    "    for _ in range(8)\n",
    "]\n",
    "expected = np.array([\n",
    "    [1.0, 0.0, 0.0] if -p[0] - p[1] - 0.5 > 0 > p[1] and p[0] - p[1] - 0.5 < 0\n",
    "    else [0.0, 1.0, 0.0] if -p[0] - p[1] - 0.5 < 0 < p[1] and p[0] - p[1] - 0.5 < 0\n",
    "    else [0.0, 0.0, 1.0] if -p[0] - p[1] - 0.5 < 0 < p[0] - p[1] - 0.5 and p[1] < 0\n",
    "    else [0.0, 0.0, 0.0] for p in inputs\n",
    "])\n",
    "\n",
    "for i in range(8):\n",
    "    output: list[float] = model.predict(inputs[i])\n",
    "    print(f\"Expected: {expected[i]}, Predicted: {output}\")"
   ],
   "id": "db00bde09aa6e24",
   "outputs": [],
   "execution_count": null
  },
  {
   "metadata": {},
   "cell_type": "markdown",
   "source": "### Multi Cross",
   "id": "44d4ac566022592d"
  },
  {
   "metadata": {},
   "cell_type": "code",
   "source": [
    "training_dataset = np.random.random((1000, 2)) * 2.0 - 1.0\n",
    "labels = np.array([\n",
    "    [1.0, 0.0, 0.0] if abs(p[0] % 0.5) <= 0.25 < abs(p[1] % 0.5)\n",
    "    else [0.0, 1.0, 0.0] if abs(p[0] % 0.5) > 0.25 >= abs(p[1] % 0.5)\n",
    "    else [0.0, 0.0, 1.0]\n",
    "    for p in training_dataset\n",
    "])\n",
    "\n",
    "plt.scatter(\n",
    "    np.array(list(map(\n",
    "        lambda elt: elt[1],\n",
    "        filter(lambda c: labels[c[0]][0] == 1, enumerate(training_dataset))\n",
    "    )))[:, 0],\n",
    "    np.array(list(map(\n",
    "        lambda elt: elt[1],\n",
    "        filter(lambda c: labels[c[0]][0] == 1, enumerate(training_dataset))\n",
    "    )))[:, 1],\n",
    "    color='blue'\n",
    ")\n",
    "plt.scatter(\n",
    "    np.array(list(map(\n",
    "        lambda elt: elt[1],\n",
    "        filter(lambda c: labels[c[0]][1] == 1, enumerate(training_dataset))\n",
    "    )))[:, 0],\n",
    "    np.array(list(map(\n",
    "        lambda elt: elt[1],\n",
    "        filter(lambda c: labels[c[0]][1] == 1, enumerate(training_dataset))\n",
    "    )))[:, 1],\n",
    "    color='red'\n",
    ")\n",
    "plt.scatter(\n",
    "    np.array(list(map(\n",
    "        lambda elt: elt[1],\n",
    "        filter(lambda c: labels[c[0]][2] == 1, enumerate(training_dataset))\n",
    "    )))[:, 0],\n",
    "    np.array(list(map(\n",
    "        lambda elt: elt[1],\n",
    "        filter(lambda c: labels[c[0]][2] == 1, enumerate(training_dataset))\n",
    "    )))[:, 1],\n",
    "    color='green'\n",
    ")\n",
    "plt.show()\n",
    "plt.clf()"
   ],
   "id": "b6277645c8649383",
   "outputs": [],
   "execution_count": null
  },
  {
   "metadata": {},
   "cell_type": "code",
   "source": [
    "hidden_layer_neurons_count: int = round(len(training_dataset) / 10)\n",
    "neurons_per_layer: list[int] = [2, hidden_layer_neurons_count, 3]\n",
    "activation: str = \"logistic\"\n",
    "model: RBF = RBF(\n",
    "    neurons_per_layer,\n",
    "    activation,\n",
    "    training_dataset,\n",
    "    labels\n",
    ")"
   ],
   "id": "4a22264b127fe7bd",
   "outputs": [],
   "execution_count": null
  },
  {
   "metadata": {},
   "cell_type": "code",
   "source": [
    "gamma: float = 0.1\n",
    "max_iterations: int = 1000\n",
    "model.fit(gamma, max_iterations)"
   ],
   "id": "e83286adbf14c1ac",
   "outputs": [],
   "execution_count": null
  },
  {
   "metadata": {},
   "cell_type": "code",
   "source": [
    "inputs = [\n",
    "    training_dataset[random.randint(0, len(training_dataset) - 1)]\n",
    "    for _ in range(8)\n",
    "]\n",
    "expected = np.array([\n",
    "    [1.0, 0.0, 0.0] if abs(p[0] % 0.5) <= 0.25 < abs(p[1] % 0.5)\n",
    "    else [0.0, 1.0, 0.0] if abs(p[0] % 0.5) > 0.25 >= abs(p[1] % 0.5)\n",
    "    else [0.0, 0.0, 1.0]\n",
    "    for p in training_dataset\n",
    "])\n",
    "\n",
    "for i in range(8):\n",
    "    output: list[float] = model.predict(inputs[i])\n",
    "    print(f\"Expected: {expected[i]}, Predicted: {output}\")"
   ],
   "id": "11362f2bc44dc782",
   "outputs": [],
   "execution_count": null
  },
  {
   "metadata": {},
   "cell_type": "markdown",
   "source": "## Regression",
   "id": "9bd07ea0a05282af"
  },
  {
   "metadata": {},
   "cell_type": "markdown",
   "source": "### Linear Simple 2D",
   "id": "952fa1c413bb5c8"
  },
  {
   "metadata": {},
   "cell_type": "code",
   "source": [
    "training_dataset = np.array([[1.0], [2.0]])\n",
    "labels = np.array([[2.0], [3.0]])\n",
    "\n",
    "plt.scatter(training_dataset, labels)\n",
    "plt.show()\n",
    "plt.clf()"
   ],
   "id": "8975207ef4d9a76f",
   "outputs": [],
   "execution_count": null
  },
  {
   "metadata": {},
   "cell_type": "code",
   "source": [
    "hidden_layer_neurons_count: int = len(training_dataset)\n",
    "neurons_per_layer: list[int] = [2, hidden_layer_neurons_count, 1]\n",
    "activation: str = \"identity\" \n",
    "model: RBF = RBF(\n",
    "    neurons_per_layer,\n",
    "    activation,\n",
    "    training_dataset,\n",
    "    labels\n",
    ")"
   ],
   "id": "56ef0a7880c7203d",
   "outputs": [],
   "execution_count": null
  },
  {
   "metadata": {},
   "cell_type": "code",
   "source": [
    "gamma: float = 0.1\n",
    "max_iterations: int = 1000\n",
    "model.fit(gamma, max_iterations)"
   ],
   "id": "b2f42a51c2ad355e",
   "outputs": [],
   "execution_count": null
  },
  {
   "metadata": {},
   "cell_type": "code",
   "source": [
    "for i, input in enumerate(training_dataset):\n",
    "    output: list[float] = model.predict(input)\n",
    "    print(f\"Expected: {labels[i]}, Predicted: {output}\")"
   ],
   "id": "8910da1c7c07587e",
   "outputs": [],
   "execution_count": null
  },
  {
   "metadata": {},
   "cell_type": "markdown",
   "source": "### Non Linear Simple 2",
   "id": "c2b21e1430234da1"
  },
  {
   "metadata": {},
   "cell_type": "code",
   "source": [
    "training_dataset = np.array([[1.0], [2.0], [3.0]])\n",
    "labels = np.array([[2.0], [3.0], [2.5]])\n",
    "\n",
    "plt.scatter(training_dataset, labels)\n",
    "plt.show()\n",
    "plt.clf()"
   ],
   "id": "a8ec52c603596f8",
   "outputs": [],
   "execution_count": null
  },
  {
   "metadata": {},
   "cell_type": "code",
   "source": [
    "hidden_layer_neurons_count: int = len(training_dataset)\n",
    "neurons_per_layer: list[int] = [2, hidden_layer_neurons_count, 1]\n",
    "activation: str = \"identity\"\n",
    "model: RBF = RBF(\n",
    "    neurons_per_layer,\n",
    "    activation,\n",
    "    training_dataset,\n",
    "    labels\n",
    ")"
   ],
   "id": "6dca91572c913aa2",
   "outputs": [],
   "execution_count": null
  },
  {
   "metadata": {},
   "cell_type": "code",
   "source": [
    "gamma: float = 0.1\n",
    "max_iterations: int = 1000\n",
    "model.fit(gamma, max_iterations)"
   ],
   "id": "b7eff008df8d5f87",
   "outputs": [],
   "execution_count": null
  },
  {
   "metadata": {},
   "cell_type": "code",
   "source": [
    "for i, input in enumerate(training_dataset):\n",
    "    output: list[float] = model.predict(input)\n",
    "    print(f\"Expected: {labels[i]}, Predicted: {output}\")"
   ],
   "id": "edd05ed5a062e39",
   "outputs": [],
   "execution_count": null
  },
  {
   "metadata": {},
   "cell_type": "markdown",
   "source": "### Linear Simple 3D",
   "id": "cd0613d5c3f5fe3b"
  },
  {
   "metadata": {},
   "cell_type": "code",
   "source": [
    "training_dataset = np.array([[1.0, 1.0], [2.0, 2.0], [3.0, 1.0]])\n",
    "labels = np.array([[2.0], [3.0], [2.5]])\n",
    "\n",
    "fig = plt.figure()\n",
    "ax = Axes3D(fig)\n",
    "ax.scatter(training_dataset[:, 0], training_dataset[:, 1], labels)\n",
    "plt.show()\n",
    "plt.clf()"
   ],
   "id": "997323e13878bfd6",
   "outputs": [],
   "execution_count": null
  },
  {
   "metadata": {},
   "cell_type": "code",
   "source": [
    "hidden_layer_neurons_count: int = len(training_dataset)\n",
    "neurons_per_layer: list[int] = [2, hidden_layer_neurons_count, 1]\n",
    "activation: str = \"identity\"\n",
    "model: RBF = RBF(\n",
    "    neurons_per_layer,\n",
    "    activation,\n",
    "    training_dataset,\n",
    "    labels\n",
    ")"
   ],
   "id": "4dc6693cda1adbdd",
   "outputs": [],
   "execution_count": null
  },
  {
   "metadata": {},
   "cell_type": "code",
   "source": [
    "gamma: float = 0.1\n",
    "max_iterations: int = 1000\n",
    "model.fit(gamma, max_iterations)"
   ],
   "id": "dc08ecdeab6407cd",
   "outputs": [],
   "execution_count": null
  },
  {
   "metadata": {},
   "cell_type": "code",
   "source": [
    "for i, input in enumerate(training_dataset):\n",
    "    output: list[float] = model.predict(input)\n",
    "    print(f\"Expected: {labels[i]}, Predicted: {output}\")"
   ],
   "id": "365e7685856260de",
   "outputs": [],
   "execution_count": null
  },
  {
   "metadata": {},
   "cell_type": "markdown",
   "source": "### Linear Tricky 3D",
   "id": "650a681c2bb6761e"
  },
  {
   "metadata": {},
   "cell_type": "code",
   "source": [
    "training_dataset = np.array([[1.0, 1.0], [2.0, 2.0], [3.0, 3.0]])\n",
    "Y = np.array([[1.0], [2.0], [3.0]])\n",
    "\n",
    "fig = plt.figure()\n",
    "ax = Axes3D(fig)\n",
    "ax.scatter(training_dataset[:, 0], training_dataset[:, 1], labels)\n",
    "plt.show()\n",
    "plt.clf()"
   ],
   "id": "66059156c70fce63",
   "outputs": [],
   "execution_count": null
  },
  {
   "metadata": {},
   "cell_type": "code",
   "source": [
    "hidden_layer_neurons_count: int = len(training_dataset)\n",
    "neurons_per_layer: list[int] = [2, hidden_layer_neurons_count, 1]\n",
    "activation: str = \"identity\"\n",
    "model: RBF = RBF(\n",
    "    neurons_per_layer,\n",
    "    activation,\n",
    "    training_dataset,\n",
    "    labels\n",
    ")"
   ],
   "id": "975c8a0cbdf15fdb",
   "outputs": [],
   "execution_count": null
  },
  {
   "metadata": {},
   "cell_type": "code",
   "source": [
    "gamma: float = 0.1\n",
    "max_iterations: int = 1000\n",
    "model.fit(gamma, max_iterations)"
   ],
   "id": "79e54e6312362e31",
   "outputs": [],
   "execution_count": null
  },
  {
   "metadata": {},
   "cell_type": "code",
   "source": [
    "for i, input in enumerate(training_dataset):\n",
    "    output: list[float] = model.predict(input)\n",
    "    print(f\"Expected: {labels[i]}, Predicted: {output}\")"
   ],
   "id": "ca0db37576e2f82e",
   "outputs": [],
   "execution_count": null
  },
  {
   "metadata": {},
   "cell_type": "markdown",
   "source": "### Non Linear Simple 3D",
   "id": "9ca0e36b76f290b2"
  },
  {
   "metadata": {},
   "cell_type": "code",
   "source": [
    "training_dataset = np.array([[1.0, 0.0], [0.0, 1.0], [1.0, 1.0], [0.0, 0.0]])\n",
    "labels = np.array([[2.0], [1.0], [-2.0], [-1.0]])\n",
    "\n",
    "fig = plt.figure()\n",
    "ax = Axes3D(fig)\n",
    "ax.scatter(training_dataset[:, 0], training_dataset[:, 1], labels)\n",
    "plt.show()\n",
    "plt.clf()"
   ],
   "id": "b9d16129af67dfa8",
   "outputs": [],
   "execution_count": null
  },
  {
   "metadata": {},
   "cell_type": "code",
   "source": [
    "hidden_layer_neurons_count: int = len(training_dataset)\n",
    "neurons_per_layer: list[int] = [2, hidden_layer_neurons_count, 1]\n",
    "activation: str = \"identity\"\n",
    "model: RBF = RBF(\n",
    "    neurons_per_layer,\n",
    "    activation,\n",
    "    training_dataset,\n",
    "    labels\n",
    ")"
   ],
   "id": "7c52d88727d72a6d",
   "outputs": [],
   "execution_count": null
  },
  {
   "metadata": {},
   "cell_type": "code",
   "source": [
    "gamma: float = 0.1\n",
    "max_iterations: int = 1000\n",
    "model.fit(gamma, max_iterations)"
   ],
   "id": "4cfef5ff3536a736",
   "outputs": [],
   "execution_count": null
  },
  {
   "metadata": {},
   "cell_type": "code",
   "source": [
    "for i, input in enumerate(training_dataset):\n",
    "    output: list[float] = model.predict(input)\n",
    "    print(f\"Expected: {labels[i]}, Predicted: {output}\")"
   ],
   "id": "dd6a3a1d40c594b4",
   "outputs": [],
   "execution_count": null
  }
 ],
 "metadata": {
  "kernelspec": {
   "display_name": "Python 3",
   "language": "python",
   "name": "python3"
  },
  "language_info": {
   "codemirror_mode": {
    "name": "ipython",
    "version": 2
   },
   "file_extension": ".py",
   "mimetype": "text/x-python",
   "name": "python",
   "nbconvert_exporter": "python",
   "pygments_lexer": "ipython2",
   "version": "2.7.6"
  }
 },
 "nbformat": 4,
 "nbformat_minor": 5
}
